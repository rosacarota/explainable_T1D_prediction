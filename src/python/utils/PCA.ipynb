{
 "cells": [
  {
   "cell_type": "code",
   "execution_count": null,
   "id": "7b40b81e-e5f8-4a22-96be-a1cdd6a1dd04",
   "metadata": {},
   "outputs": [],
   "source": [
    "import pandas as pd\n",
    "from sklearn.decomposition import PCA\n",
    "import matplotlib.pyplot as plt\n",
    "\n",
    "df = pd.read_excel(r'dataset.xlsx', header=0)\n"
   ]
  },
  {
   "cell_type": "code",
   "execution_count": null,
   "id": "73ca951c-71be-4bd1-b26e-1d7c0cb22005",
   "metadata": {},
   "outputs": [],
   "source": [
    "df_T = df.set_index('ID_REF').T"
   ]
  },
  {
   "cell_type": "code",
   "execution_count": null,
   "id": "6b5427c8-2274-47e2-b108-b6edd362d363",
   "metadata": {},
   "outputs": [],
   "source": [
    "illness_col = df_T['Illness']\n",
    "\n",
    "df_T = df_T.drop(columns=['Illness'])\n",
    "\n",
    "pca = PCA(n_components=2)\n",
    "pca_result = pca.fit_transform(df_T)\n",
    "\n",
    "df_T['Illness'] = illness_col\n",
    "\n",
    "plt.figure(figsize=(8, 6))\n",
    "scatter = plt.scatter(pca_result[:, 0], pca_result[:, 1], \n",
    "                      c=illness_col.map({'Healthy': 0, 'Type 1 Diabetes': 1}), cmap='viridis')\n",
    "plt.xlabel('PC1')\n",
    "plt.ylabel('PC2')\n",
    "plt.title('PCA of Gene Expression Data')\n",
    "plt.colorbar(scatter, label='Illness')\n",
    "plt.show()\n",
    "\n",
    "output_path = r'png\\pca_prima.jpg'\n",
    "plt.savefig(output_path, format='jpg')\n",
    "plt.close()"
   ]
  },
  {
   "cell_type": "code",
   "execution_count": null,
   "id": "d72f952a-e762-41d2-9755-a0ae3a233491",
   "metadata": {},
   "outputs": [],
   "source": [
    "from combat.pycombat import pycombat\n",
    "\n",
    "com =  pd.read_excel(r\"dataset.xlsx\", index_col = \"ID_REF\")"
   ]
  },
  {
   "cell_type": "code",
   "execution_count": null,
   "id": "cb333f89-8e02-4e16-9b1c-96729faa7c11",
   "metadata": {},
   "outputs": [],
   "source": [
    "com_T = com.T\n",
    "com_T = com_T.drop(columns=['Illness', 'Age', 'Gender'])\n",
    "\n",
    "com_T = com_T.T\n",
    "com_T = com_T.apply(pd.to_numeric, errors='coerce')\n",
    "print(com_T)"
   ]
  },
  {
   "cell_type": "code",
   "execution_count": null,
   "id": "10744198-1df8-4b89-b18f-265bcf576d46",
   "metadata": {},
   "outputs": [],
   "source": [
    "platforms = [1] * 105 + [2] * 298\n",
    "\n",
    "corrected_data = pycombat(com_T, batch=platforms)\n",
    "print(corrected_data)"
   ]
  },
  {
   "cell_type": "code",
   "execution_count": null,
   "id": "846e5e02-b967-46d6-b07d-fa61539895da",
   "metadata": {},
   "outputs": [],
   "source": [
    "pca_2 = corrected_data\n",
    "pca_2 = pca_2.T\n",
    "\n",
    "pca = PCA(n_components=2)\n",
    "pca_result = pca.fit_transform(pca_2)\n",
    "\n",
    "pca_2['Illness'] = illness_col\n",
    "\n",
    "plt.figure(figsize=(8,6))\n",
    "plt.scatter(pca_result[:, 0], pca_result[:, 1], c=pca_2['Illness'].map({'Healthy': 0, 'Type 1 Diabetes': 1}), cmap='viridis')\n",
    "plt.xlabel('PC1')\n",
    "plt.ylabel('PC2')\n",
    "plt.title('PCA of Gene Expression Data')\n",
    "plt.colorbar(label='Illness')\n",
    "plt.show()"
   ]
  },
  {
   "cell_type": "code",
   "execution_count": null,
   "id": "50708b79-f7f3-4a8c-883f-7d02dbecfbc0",
   "metadata": {},
   "outputs": [],
   "source": [
    "savefiles = corrected_data.T\n",
    "savefiles_reset = savefiles.reset_index()\n",
    "\n",
    "savefiles['Illness']=illness_col\n",
    "\n",
    "savefiles[['Age', 'Gender']] = other[['Age', 'Gender']]\n",
    "print(savefiles.columns)"
   ]
  },
  {
   "cell_type": "code",
   "execution_count": null,
   "id": "38aebede-5421-4ca6-b52d-14296d704ec5",
   "metadata": {},
   "outputs": [],
   "source": [
    "savefiles.to_excel(r'batch.xlsx')"
   ]
  },
  {
   "cell_type": "code",
   "execution_count": null,
   "id": "f0ab9946-b13d-4974-b06e-84c306fe30d6",
   "metadata": {},
   "outputs": [],
   "source": [
    "pca_3 = pd.read_excel(r'dataset.xlsx')\n",
    "pca = PCA(n_components=0.95)\n",
    "pca_result = pca.fit_transform(pca_3)\n",
    "\n",
    "print(pca_result)"
   ]
  },
  {
   "cell_type": "code",
   "execution_count": null,
   "id": "f563aed2-0a57-470f-8047-b287051127ed",
   "metadata": {},
   "outputs": [],
   "source": [
    "loadings = pd.DataFrame(pca.components_.T, index=pca_3.columns, columns=[f'PC{i+1}' for i in range(pca_result.shape[1])])\n",
    "\n",
    "print(\"Loadings delle prime componenti principali:\")\n",
    "print(loadings.head())\n",
    "\n",
    "loadings_PC1 = loadings['PC1'].abs().sort_values(ascending=False)\n",
    "print(\"Primi 10 geni più influenti su PC1:\")\n",
    "print(loadings_PC1.head(300))\n",
    "\n",
    "insignificant_genes = loadings[loadings.abs().max(axis=1) < 0.01]\n",
    "print(\"Geni meno influenti:\")\n",
    "print(insignificant_genes)\n",
    "\n",
    "print(\"Risultato PCA (prime righe):\")\n",
    "print(pca_result[:5])"
   ]
  },
  {
   "cell_type": "code",
   "execution_count": null,
   "id": "1d8f322c-3ada-47f9-becd-0af13dc528d9",
   "metadata": {},
   "outputs": [],
   "source": [
    "pca_df = pd.DataFrame(pca_result)\n",
    "\n",
    "pca_df.to_excel(r'pca.xlsx', index=False)"
   ]
  }
 ],
 "metadata": {
  "kernelspec": {
   "display_name": "Python 3 (ipykernel)",
   "language": "python",
   "name": "python3"
  },
  "language_info": {
   "codemirror_mode": {
    "name": "ipython",
    "version": 3
   },
   "file_extension": ".py",
   "mimetype": "text/x-python",
   "name": "python",
   "nbconvert_exporter": "python",
   "pygments_lexer": "ipython3",
   "version": "3.11.1"
  }
 },
 "nbformat": 4,
 "nbformat_minor": 5
}
