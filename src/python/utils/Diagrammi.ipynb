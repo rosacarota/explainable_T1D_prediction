{
 "cells": [
  {
   "cell_type": "code",
   "execution_count": null,
   "id": "dcae7a12-4c50-4e60-9598-46544b2182f9",
   "metadata": {},
   "outputs": [],
   "source": [
    "import pandas as pd\n",
    "import matplotlib.pyplot as plt\n",
    "import seaborn as sns"
   ]
  },
  {
   "cell_type": "markdown",
   "id": "f08e678c-3352-4754-8e4a-9833ccdec145",
   "metadata": {},
   "source": [
    "# Visualizzazione prima dell'applicazione del threshold"
   ]
  },
  {
   "cell_type": "code",
   "execution_count": null,
   "id": "81bafe43-2111-4973-8563-e38fcd04a937",
   "metadata": {},
   "outputs": [],
   "source": [
    "df = pd.read_excel(r\"dataset.xlsx\", header=0)\n"
   ]
  },
  {
   "cell_type": "code",
   "execution_count": null,
   "id": "895cb0ee-0a19-4f9f-873e-f1d2135cbecb",
   "metadata": {},
   "outputs": [],
   "source": [
    "df_T = df.set_index('ID_REF').T\n",
    "print(df_T)"
   ]
  },
  {
   "cell_type": "code",
   "execution_count": null,
   "id": "bb133898-e221-4f94-b97a-ada9578abebc",
   "metadata": {},
   "outputs": [],
   "source": [
    "drop_columns = df_T.drop(columns=['Illness', 'Age', 'Gender'])"
   ]
  },
  {
   "cell_type": "code",
   "execution_count": null,
   "id": "6820180b-c992-4b9d-ac20-e685dcf1f77f",
   "metadata": {},
   "outputs": [],
   "source": [
    "# Codice per Histogram\n",
    "plt.figure(figsize=(10, 6))\n",
    "plt.hist(drop_columns.values.flatten(), bins=50, color='c', edgecolor='k', alpha=0.7)\n",
    "plt.title(\"Histogram of Gene Expression\")\n",
    "plt.xlabel(\"Expression Value\")\n",
    "plt.ylabel(\"Frequency\")\n",
    "plt.grid(True)\n",
    "plt.show()"
   ]
  },
  {
   "cell_type": "code",
   "execution_count": null,
   "id": "e3a7485e-1fac-49ee-b74f-98bff2b9fac1",
   "metadata": {},
   "outputs": [],
   "source": [
    "threshold = drop_columns.values.flatten().quantile(0.20)"
   ]
  },
  {
   "cell_type": "markdown",
   "id": "ed8d4d1b-1661-4ff7-a12d-188e8ae196e3",
   "metadata": {},
   "source": [
    "# Visualizzazione dopo l'applicazione del threshold"
   ]
  },
  {
   "cell_type": "code",
   "execution_count": null,
   "id": "fb7fb6c7-4c48-4ee8-ba78-683f190a04c2",
   "metadata": {},
   "outputs": [],
   "source": [
    "df_threshold=pd.read_excel(r\"threshold.xlsx\", header=0)\n"
   ]
  },
  {
   "cell_type": "code",
   "execution_count": null,
   "id": "a8512912-49f1-4dc8-8693-53676f025373",
   "metadata": {},
   "outputs": [],
   "source": [
    "drop_columns_threshold= df_threshold.drop(columns=['ID_REF','Illness', 'Age', 'Gender'])"
   ]
  },
  {
   "cell_type": "code",
   "execution_count": null,
   "id": "914530e7-9aed-4289-8eec-20622df25960",
   "metadata": {},
   "outputs": [],
   "source": [
    "# Codice per Histogram\n",
    "plt.figure(figsize=(10, 6))\n",
    "plt.hist(drop_columns_threshold.values.flatten(), bins=50, color='c', edgecolor='k', alpha=0.7)\n",
    "plt.title(\"Histogram of Gene Expression\")\n",
    "plt.xlabel(\"Expression Value\")\n",
    "plt.ylabel(\"Frequency\")\n",
    "plt.grid(True)\n",
    "plt.show()"
   ]
  }
 ],
 "metadata": {
  "kernelspec": {
   "display_name": "Python 3 (ipykernel)",
   "language": "python",
   "name": "python3"
  },
  "language_info": {
   "codemirror_mode": {
    "name": "ipython",
    "version": 3
   },
   "file_extension": ".py",
   "mimetype": "text/x-python",
   "name": "python",
   "nbconvert_exporter": "python",
   "pygments_lexer": "ipython3",
   "version": "3.11.1"
  }
 },
 "nbformat": 4,
 "nbformat_minor": 5
}
